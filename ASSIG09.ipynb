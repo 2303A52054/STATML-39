{
  "nbformat": 4,
  "nbformat_minor": 0,
  "metadata": {
    "colab": {
      "provenance": [],
      "authorship_tag": "ABX9TyM5aT/Wm4u0o6CmXGY+OlBC",
      "include_colab_link": true
    },
    "kernelspec": {
      "name": "python3",
      "display_name": "Python 3"
    },
    "language_info": {
      "name": "python"
    }
  },
  "cells": [
    {
      "cell_type": "markdown",
      "metadata": {
        "id": "view-in-github",
        "colab_type": "text"
      },
      "source": [
        "<a href=\"https://colab.research.google.com/github/2303A52054/STATML-39/blob/main/ASSIG09.ipynb\" target=\"_parent\"><img src=\"https://colab.research.google.com/assets/colab-badge.svg\" alt=\"Open In Colab\"/></a>"
      ]
    },
    {
      "cell_type": "markdown",
      "source": [
        "2303A52054  Aissgnment- 09"
      ],
      "metadata": {
        "id": "_TXjdhhjlBVI"
      }
    },
    {
      "cell_type": "code",
      "source": [
        "import pandas as pd\n",
        "data = pd.read_csv('/content/breast_cancer_survival.csv')\n",
        "print(\"First 5 rows of the dataset:\")\n",
        "print(data.head())\n",
        "print(\"\\nSummary of the dataset:\")\n",
        "print(data.info())\n",
        "print(\"\\nChecking for missing values:\")\n",
        "print(data.isnull().sum())\n",
        "print(\"\\nTarget variable: 'Patient_Status'\")\n",
        "features = data.drop(['Patient_Status'], axis=1)\n",
        "print(\"\\nFeature variables:\")\n",
        "print(features.columns)"
      ],
      "metadata": {
        "colab": {
          "base_uri": "https://localhost:8080/"
        },
        "id": "5_6y1Lm1lZQH",
        "outputId": "4e2bafff-6b82-4e2c-852a-764fd20e3c63"
      },
      "execution_count": 2,
      "outputs": [
        {
          "output_type": "stream",
          "name": "stdout",
          "text": [
            "First 5 rows of the dataset:\n",
            "   Age  Gender  Protein1  Protein2  Protein3  Protein4 Tumour_Stage  \\\n",
            "0   42  FEMALE   0.95256   2.15000  0.007972 -0.048340           II   \n",
            "1   54  FEMALE   0.00000   1.38020 -0.498030 -0.507320           II   \n",
            "2   63  FEMALE  -0.52303   1.76400 -0.370190  0.010815           II   \n",
            "3   78  FEMALE  -0.87618   0.12943 -0.370380  0.132190            I   \n",
            "4   42  FEMALE   0.22611   1.74910 -0.543970 -0.390210           II   \n",
            "\n",
            "                       Histology ER status PR status HER2 status Surgery_type  \\\n",
            "0  Infiltrating Ductal Carcinoma  Positive  Positive    Negative        Other   \n",
            "1  Infiltrating Ductal Carcinoma  Positive  Positive    Negative        Other   \n",
            "2  Infiltrating Ductal Carcinoma  Positive  Positive    Negative   Lumpectomy   \n",
            "3  Infiltrating Ductal Carcinoma  Positive  Positive    Negative        Other   \n",
            "4  Infiltrating Ductal Carcinoma  Positive  Positive    Positive   Lumpectomy   \n",
            "\n",
            "  Date_of_Surgery Date_of_Last_Visit Patient_Status  \n",
            "0       20-May-18          26-Aug-18          Alive  \n",
            "1       26-Apr-18          25-Jan-19           Dead  \n",
            "2       24-Aug-18          08-Apr-20          Alive  \n",
            "3       16-Nov-18          28-Jul-20          Alive  \n",
            "4       12-Dec-18          05-Jan-19          Alive  \n",
            "\n",
            "Summary of the dataset:\n",
            "<class 'pandas.core.frame.DataFrame'>\n",
            "RangeIndex: 334 entries, 0 to 333\n",
            "Data columns (total 15 columns):\n",
            " #   Column              Non-Null Count  Dtype  \n",
            "---  ------              --------------  -----  \n",
            " 0   Age                 334 non-null    int64  \n",
            " 1   Gender              334 non-null    object \n",
            " 2   Protein1            334 non-null    float64\n",
            " 3   Protein2            334 non-null    float64\n",
            " 4   Protein3            334 non-null    float64\n",
            " 5   Protein4            334 non-null    float64\n",
            " 6   Tumour_Stage        334 non-null    object \n",
            " 7   Histology           334 non-null    object \n",
            " 8   ER status           334 non-null    object \n",
            " 9   PR status           334 non-null    object \n",
            " 10  HER2 status         334 non-null    object \n",
            " 11  Surgery_type        334 non-null    object \n",
            " 12  Date_of_Surgery     334 non-null    object \n",
            " 13  Date_of_Last_Visit  317 non-null    object \n",
            " 14  Patient_Status      321 non-null    object \n",
            "dtypes: float64(4), int64(1), object(10)\n",
            "memory usage: 39.3+ KB\n",
            "None\n",
            "\n",
            "Checking for missing values:\n",
            "Age                    0\n",
            "Gender                 0\n",
            "Protein1               0\n",
            "Protein2               0\n",
            "Protein3               0\n",
            "Protein4               0\n",
            "Tumour_Stage           0\n",
            "Histology              0\n",
            "ER status              0\n",
            "PR status              0\n",
            "HER2 status            0\n",
            "Surgery_type           0\n",
            "Date_of_Surgery        0\n",
            "Date_of_Last_Visit    17\n",
            "Patient_Status        13\n",
            "dtype: int64\n",
            "\n",
            "Target variable: 'Patient_Status'\n",
            "\n",
            "Feature variables:\n",
            "Index(['Age', 'Gender', 'Protein1', 'Protein2', 'Protein3', 'Protein4',\n",
            "       'Tumour_Stage', 'Histology', 'ER status', 'PR status', 'HER2 status',\n",
            "       'Surgery_type', 'Date_of_Surgery', 'Date_of_Last_Visit'],\n",
            "      dtype='object')\n"
          ]
        }
      ]
    }
  ]
}